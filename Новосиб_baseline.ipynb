{
  "cells": [
    {
      "cell_type": "markdown",
      "metadata": {
        "id": "view-in-github",
        "colab_type": "text"
      },
      "source": [
        "<a href=\"https://colab.research.google.com/github/XaPoHbomj/Novosib/blob/main/%D0%9D%D0%BE%D0%B2%D0%BE%D1%81%D0%B8%D0%B1_baseline.ipynb\" target=\"_parent\"><img src=\"https://colab.research.google.com/assets/colab-badge.svg\" alt=\"Open In Colab\"/></a>"
      ]
    },
    {
      "cell_type": "code",
      "execution_count": null,
      "metadata": {
        "colab": {
          "base_uri": "https://localhost:8080/"
        },
        "id": "QTEZXkdcG15i",
        "outputId": "0900d354-4610-48c4-b326-de5dfd29424a"
      },
      "outputs": [
        {
          "name": "stdout",
          "output_type": "stream",
          "text": [
            "Mounted at /content/drive\n"
          ]
        }
      ],
      "source": [
        "from google.colab import drive\n",
        "drive.mount('/content/drive')"
      ]
    },
    {
      "cell_type": "code",
      "execution_count": null,
      "metadata": {
        "id": "pzgyJhXAtLzC"
      },
      "outputs": [],
      "source": [
        "import pandas as pd\n",
        "import seaborn as sns\n",
        "import matplotlib.pyplot as plt\n",
        "from sklearn.model_selection import train_test_split\n",
        "from sklearn.ensemble import RandomForestClassifier\n",
        "from xgboost import XGBClassifier\n",
        "from sklearn import tree\n",
        "import numpy as np\n",
        "from sklearn.preprocessing import StandardScaler\n",
        "from sklearn.metrics import recall_score, precision_score\n",
        "from sklearn.neighbors import RadiusNeighborsClassifier\n",
        "from sklearn.model_selection import GridSearchCV\n",
        "from sklearn.ensemble import StackingClassifier\n",
        "from imblearn.over_sampling import SMOTE\n",
        "from sklearn.neural_network import MLPClassifier\n",
        "\n",
        "#StackingClassifier\n",
        "\n",
        "%matplotlib inline"
      ]
    },
    {
      "cell_type": "code",
      "execution_count": null,
      "metadata": {
        "id": "o9N4JbcWudk2"
      },
      "outputs": [],
      "source": [
        "df_train = pd.read_csv(\"/content/drive/MyDrive/Colab Notebooks/Новосиб/train_dataset_train.csv\")\n",
        "df_test = pd.read_csv(\"/content/drive/MyDrive/Colab Notebooks/Новосиб/test_dataset_test.csv\")\n",
        "df_solution = pd.read_csv(\"/content/drive/MyDrive/Colab Notebooks/Новосиб/sample_solution.csv\")"
      ]
    },
    {
      "cell_type": "code",
      "execution_count": null,
      "metadata": {
        "id": "tEeeuQ5yFnyo"
      },
      "outputs": [],
      "source": [
        "df_train['Class'] = df_train['Class'].map({0:0, 1:1, 3:2, 4:3, 5:4, 64:5})\n",
        "df_solution['Class'] = df_solution['Class'].map({0:0, 1:1, 3:2, 4:3, 5:4, 64:5})"
      ]
    },
    {
      "cell_type": "code",
      "execution_count": null,
      "metadata": {
        "id": "C67bHRMnue42"
      },
      "outputs": [],
      "source": [
        "df_train = df_train.fillna(0)"
      ]
    },
    {
      "cell_type": "code",
      "execution_count": null,
      "metadata": {
        "id": "czsoZexkyyTw"
      },
      "outputs": [],
      "source": [
        "X = df_train.drop([\"Class\", \"id\", \"Reflectance\"], axis = 1)\n",
        "y = df_train[[\"Class\"]]"
      ]
    },
    {
      "cell_type": "code",
      "execution_count": null,
      "metadata": {
        "id": "qssUtdzft-gA"
      },
      "outputs": [],
      "source": [
        "X_test = df_test.drop([\"Reflectance\", \"id\"], axis = 1)\n",
        "test_id = df_test[\"id\"]"
      ]
    },
    {
      "cell_type": "code",
      "execution_count": null,
      "metadata": {
        "id": "61rnE2WuHxAF"
      },
      "outputs": [],
      "source": [
        "ss = StandardScaler()\n",
        "X_scaled = ss.fit_transform(X)\n",
        "X_t_scaled = ss.fit_transform(X_test)"
      ]
    },
    {
      "cell_type": "code",
      "execution_count": null,
      "metadata": {
        "colab": {
          "background_save": true,
          "base_uri": "https://localhost:8080/"
        },
        "id": "0XwenJNuAt5i",
        "outputId": "0d657ba5-84a7-47ab-e3e8-fc4ee2abf2aa"
      },
      "outputs": [
        {
          "name": "stderr",
          "output_type": "stream",
          "text": [
            "/usr/local/lib/python3.7/dist-packages/sklearn/neighbors/_classification.py:501: DataConversionWarning: A column-vector y was passed when a 1d array was expected. Please change the shape of y to (n_samples,), for example using ravel().\n",
            "  self._fit(X, y)\n"
          ]
        },
        {
          "name": "stdout",
          "output_type": "stream",
          "text": [
            "1\n",
            "2\n",
            "3\n",
            "4\n",
            "5\n",
            "6\n",
            "7\n",
            "8\n",
            "9\n",
            "10\n",
            "11\n",
            "12\n",
            "13\n",
            "14\n",
            "15\n",
            "16\n",
            "17\n",
            "18\n",
            "19\n",
            "20\n",
            "21\n",
            "22\n"
          ]
        }
      ],
      "source": [
        "df_train['neighr'] = 0\n",
        "neigh = RadiusNeighborsClassifier(radius=0.034)\n",
        "neigh.fit(X_scaled, y)\n",
        "for i in range(1, len(X_scaled) // 200000 + 2):\n",
        "  print(i)\n",
        "  df_train.iloc[(i - 1) * 200000:i * 200000, -1] = list(map(len, neigh.radius_neighbors(X_scaled[(i - 1) * 200000:i * 200000], 0.034, return_distance=False)))"
      ]
    },
    {
      "cell_type": "code",
      "execution_count": null,
      "metadata": {
        "colab": {
          "background_save": true
        },
        "id": "p_RPc23-CwYG",
        "outputId": "40f70ff3-7770-4838-d749-d0e4799e90dd"
      },
      "outputs": [
        {
          "name": "stdout",
          "output_type": "stream",
          "text": [
            "1\n",
            "2\n",
            "3\n",
            "4\n",
            "5\n",
            "6\n",
            "7\n",
            "8\n",
            "9\n",
            "10\n"
          ]
        }
      ],
      "source": [
        "df_test['neighr'] = 0\n",
        "for i in range(1, len(X_t_scaled) // 200000 + 2):\n",
        "  print(i)\n",
        "  df_test.iloc[(i - 1) * 200000:i * 200000, -1] = list(map(len, neigh.radius_neighbors(X_t_scaled[(i - 1) * 200000:i * 200000], 0.034, return_distance=False)))"
      ]
    },
    {
      "cell_type": "code",
      "execution_count": null,
      "metadata": {
        "colab": {
          "background_save": true
        },
        "id": "TwJT_3JWHK8d"
      },
      "outputs": [],
      "source": [
        "X = df_train.drop([\"Class\", \"id\"], axis = 1)\n",
        "y = df_train[[\"Class\"]]"
      ]
    },
    {
      "cell_type": "code",
      "execution_count": null,
      "metadata": {
        "colab": {
          "background_save": true
        },
        "id": "Lak60BGJHS5L"
      },
      "outputs": [],
      "source": [
        "strategy = {5:402000}\n",
        "oversample = SMOTE(sampling_strategy=strategy)\n",
        "X, y = oversample.fit_resample(X, y)"
      ]
    },
    {
      "cell_type": "code",
      "execution_count": null,
      "metadata": {
        "colab": {
          "background_save": true
        },
        "id": "7AnE2g5SHtHd"
      },
      "outputs": [],
      "source": [
        "X_test = df_test.drop([\"id\"], axis = 1)\n",
        "test_id = df_test[\"id\"]"
      ]
    },
    {
      "cell_type": "code",
      "execution_count": null,
      "metadata": {
        "colab": {
          "background_save": true
        },
        "id": "NP9ykpgpoU75"
      },
      "outputs": [],
      "source": [
        "df_sub = pd.merge(df_solution, df_test, on=\"id\", how=\"left\")\n",
        "df_sub = df_sub.drop([\"Class\", \"id\"], axis = 1)"
      ]
    },
    {
      "cell_type": "code",
      "execution_count": null,
      "metadata": {
        "colab": {
          "background_save": true
        },
        "id": "E-LfoARf2WGZ"
      },
      "outputs": [],
      "source": [
        "#X_train, X_test, y_train, y_test = train_test_split(X, y, test_size=0.2, random_state=7575)"
      ]
    },
    {
      "cell_type": "markdown",
      "metadata": {
        "id": "X_HOvpXy2e3S"
      },
      "source": [
        "## Обучение модели"
      ]
    },
    {
      "cell_type": "code",
      "execution_count": null,
      "metadata": {
        "colab": {
          "background_save": true
        },
        "id": "Dk43s4la2AHd",
        "outputId": "46102aff-97bf-40f4-bf0f-1b3d69a86543"
      },
      "outputs": [
        {
          "ename": "IndentationError",
          "evalue": "ignored",
          "output_type": "error",
          "traceback": [
            "\u001b[0;36m  File \u001b[0;32m\"<ipython-input-16-975333c8bfc2>\"\u001b[0;36m, line \u001b[0;32m2\u001b[0m\n\u001b[0;31m    'learning_rate': [0.01, 0.05, 0.1],\u001b[0m\n\u001b[0m    ^\u001b[0m\n\u001b[0;31mIndentationError\u001b[0m\u001b[0;31m:\u001b[0m unexpected indent\n"
          ]
        }
      ],
      "source": [
        "#params = { 'max_depth': [10],\n",
        "#           'learning_rate': [0.01, 0.05, 0.1],\n",
        "#           'colsample_bytree': [0.3, 0.7]}"
      ]
    },
    {
      "cell_type": "code",
      "execution_count": null,
      "metadata": {
        "colab": {
          "background_save": true
        },
        "id": "i-I7uv9b2Cp6"
      },
      "outputs": [],
      "source": [
        "#clfXGBoost = XGBClassifier(tree_method=\"gpu_hist\")\n",
        "#clf = GridSearchCV(estimator=clfXGBoost, \n",
        "#                   param_grid=params,\n",
        "#                   scoring='recall_macro', \n",
        "#                   verbose=1,\n",
        "#                   return_train_score=True,\n",
        "#                   cv=3)\n",
        "#clf.fit(X, y)\n",
        "#print(\"Best parameters:\", clf.best_params_)"
      ]
    },
    {
      "cell_type": "code",
      "execution_count": null,
      "metadata": {
        "colab": {
          "background_save": true
        },
        "id": "sd0Tv5o0Lrn3"
      },
      "outputs": [],
      "source": [
        "#clfXGBoost = XGBClassifier(tree_method=\"gpu_hist\", max_depth = 10)"
      ]
    },
    {
      "cell_type": "code",
      "execution_count": null,
      "metadata": {
        "id": "2Wxn8_hSJ0JX"
      },
      "outputs": [],
      "source": [
        "estimators = [\n",
        "     ('rf', RandomForestClassifier(n_estimators=100, random_state=42)),\n",
        "     ('xgb', XGBClassifier(tree_method=\"hist\", max_depth=10)),\n",
        "     ('net', MLPClassifier(alpha=1, max_iter=100))]\n",
        "clf = StackingClassifier(estimators, final_estimator=XGBClassifier(tree_method=\"hist\", max_depth=10), cv = 3)"
      ]
    },
    {
      "cell_type": "code",
      "execution_count": null,
      "metadata": {
        "colab": {
          "base_uri": "https://localhost:8080/"
        },
        "id": "6pdu8zS9L94w",
        "outputId": "a9f40210-7d72-4046-95e6-84086aa1234c"
      },
      "outputs": [
        {
          "output_type": "stream",
          "name": "stderr",
          "text": [
            "/usr/local/lib/python3.7/dist-packages/sklearn/preprocessing/_label.py:98: DataConversionWarning: A column-vector y was passed when a 1d array was expected. Please change the shape of y to (n_samples, ), for example using ravel().\n",
            "  y = column_or_1d(y, warn=True)\n",
            "/usr/local/lib/python3.7/dist-packages/sklearn/preprocessing/_label.py:133: DataConversionWarning: A column-vector y was passed when a 1d array was expected. Please change the shape of y to (n_samples, ), for example using ravel().\n",
            "  y = column_or_1d(y, warn=True)\n"
          ]
        },
        {
          "output_type": "execute_result",
          "data": {
            "text/plain": [
              "StackingClassifier(cv=3,\n",
              "                   estimators=[('rf', RandomForestClassifier(random_state=42)),\n",
              "                               ('xgb',\n",
              "                                XGBClassifier(max_depth=10,\n",
              "                                              tree_method='hist')),\n",
              "                               ('net', MLPClassifier(alpha=1, max_iter=100))],\n",
              "                   final_estimator=XGBClassifier(max_depth=10,\n",
              "                                                 tree_method='hist'))"
            ]
          },
          "metadata": {},
          "execution_count": 20
        }
      ],
      "source": [
        "clf.fit(X, y)"
      ]
    },
    {
      "cell_type": "code",
      "execution_count": null,
      "metadata": {
        "id": "-kXnqNeUoEq6"
      },
      "outputs": [],
      "source": [
        "pred = clf.predict(df_sub)"
      ]
    },
    {
      "cell_type": "code",
      "execution_count": null,
      "metadata": {
        "id": "s7g0ZkL_Jydb"
      },
      "outputs": [],
      "source": [
        "_id = df_solution[\"id\"]\n",
        "sub = pd.DataFrame({'id': _id , 'Class': pred})\n",
        "sub['Class'] = sub['Class'].map({0.0:0, 1.0:1, 2.0:3, 3.0:4, 4.0:5, 5.0:64})\n",
        "sub.to_csv('sub.csv', index=False)"
      ]
    }
  ],
  "metadata": {
    "colab": {
      "collapsed_sections": [],
      "provenance": [],
      "include_colab_link": true
    },
    "kernelspec": {
      "display_name": "Python 3",
      "language": "python",
      "name": "python3"
    },
    "language_info": {
      "codemirror_mode": {
        "name": "ipython",
        "version": 3
      },
      "file_extension": ".py",
      "mimetype": "text/x-python",
      "name": "python",
      "nbconvert_exporter": "python",
      "pygments_lexer": "ipython3",
      "version": "3.7.3"
    }
  },
  "nbformat": 4,
  "nbformat_minor": 0
}